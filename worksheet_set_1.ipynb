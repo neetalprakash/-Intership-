{
 "cells": [
  {
   "cell_type": "markdown",
   "id": "5116da45",
   "metadata": {},
   "source": [
    "Write a python program to find the factorial of a number."
   ]
  },
  {
   "cell_type": "code",
   "execution_count": 1,
   "id": "c6c22c1f",
   "metadata": {},
   "outputs": [
    {
     "name": "stdout",
     "output_type": "stream",
     "text": [
      "ENTER ANY NUMBER : 7\n",
      "FACTORIAL IS : 5040\n"
     ]
    }
   ],
   "source": [
    "#USING WHILE LOOP\n",
    "\n",
    "i=int(input(\"ENTER ANY NUMBER : \"))\n",
    "fact=1\n",
    "while (i>0):\n",
    "    fact=fact*i\n",
    "    i=i-1\n",
    "    \n",
    "print(\"FACTORIAL IS :\",fact)"
   ]
  },
  {
   "cell_type": "markdown",
   "id": "67f2184a",
   "metadata": {},
   "source": [
    "Write a python program to find whether a number is prime or composite."
   ]
  },
  {
   "cell_type": "code",
   "execution_count": 2,
   "id": "2bb73ab4",
   "metadata": {},
   "outputs": [
    {
     "name": "stdout",
     "output_type": "stream",
     "text": [
      "ENTER NUM : 8\n",
      "IT IS A COMPOSITE\n"
     ]
    }
   ],
   "source": [
    "#USING WHILE LOOP AND IF ELSE CONDITION\n",
    "\n",
    "num=int(input(\"ENTER NUM : \"))\n",
    "count=0\n",
    "\n",
    "i=1\n",
    "while i<=num:\n",
    "    if num%i==0:\n",
    "        count=count+1\n",
    "    i=i+1\n",
    "    \n",
    "if count==2:\n",
    "    print(\"IT IS A PRIME NUMBER\")\n",
    "else:\n",
    "    print(\"IT IS A COMPOSITE\")"
   ]
  },
  {
   "cell_type": "markdown",
   "id": "0bd22c9c",
   "metadata": {},
   "source": [
    "Write a python program to check whether a given string is palindrome or not."
   ]
  },
  {
   "cell_type": "code",
   "execution_count": 4,
   "id": "1e5e2d44",
   "metadata": {},
   "outputs": [
    {
     "name": "stdout",
     "output_type": "stream",
     "text": [
      "ENTER STRING : madam\n",
      "IT IS PALINDROME STRING\n"
     ]
    }
   ],
   "source": [
    "a=input(\"ENTER STRING : \")\n",
    "b=a[-1::-1] \n",
    "\n",
    "if (a==b):\n",
    "    print(\"IT IS PALINDROME STRING\")\n",
    "else:\n",
    "    print(\"IT IS NOT PALINDROME STRING\")"
   ]
  },
  {
   "cell_type": "markdown",
   "id": "8ff9c471",
   "metadata": {},
   "source": [
    "Write a Python program to get the third side of right-angled triangle from two given sides."
   ]
  },
  {
   "cell_type": "code",
   "execution_count": 2,
   "id": "ee4d1bca",
   "metadata": {},
   "outputs": [
    {
     "name": "stdout",
     "output_type": "stream",
     "text": [
      "ENTER BASE : 6\n",
      "ENTER HEIGHT : 8\n",
      "THE THIRD SIDE OF RIGHT ANGLED IS : 10.0\n"
     ]
    }
   ],
   "source": [
    "from math import sqrt\n",
    "base=int(input(\"ENTER BASE : \"))\n",
    "\n",
    "height=int(input(\"ENTER HEIGHT : \"))\n",
    "\n",
    "Third_side_of_right_angled=sqrt(base**2+height**2)\n",
    "\n",
    "print(\"THE THIRD SIDE OF RIGHT ANGLED IS :\",Third_side_of_right_angled)\n"
   ]
  },
  {
   "cell_type": "markdown",
   "id": "fd91c640",
   "metadata": {},
   "source": [
    "Write a python program to print the frequency of each of the characters present in a given string."
   ]
  },
  {
   "cell_type": "code",
   "execution_count": 4,
   "id": "0979ec4c",
   "metadata": {},
   "outputs": [
    {
     "name": "stdout",
     "output_type": "stream",
     "text": [
      "ENTER ANY STRING : hellow, how are you\n",
      "ENTER CHARACTER : o\n",
      "frecquency is :  3\n"
     ]
    }
   ],
   "source": [
    "string=input(\"ENTER ANY STRING : \")\n",
    "character=input(\"ENTER CHARACTER : \")\n",
    "\n",
    "f=0\n",
    "\n",
    "for i in string:\n",
    "    if i==character:\n",
    "        f=f+1\n",
    "print(\"frecquency is : \",f)"
   ]
  },
  {
   "cell_type": "code",
   "execution_count": null,
   "id": "244ea6d2",
   "metadata": {},
   "outputs": [],
   "source": []
  }
 ],
 "metadata": {
  "kernelspec": {
   "display_name": "Python 3 (ipykernel)",
   "language": "python",
   "name": "python3"
  },
  "language_info": {
   "codemirror_mode": {
    "name": "ipython",
    "version": 3
   },
   "file_extension": ".py",
   "mimetype": "text/x-python",
   "name": "python",
   "nbconvert_exporter": "python",
   "pygments_lexer": "ipython3",
   "version": "3.9.7"
  }
 },
 "nbformat": 4,
 "nbformat_minor": 5
}
